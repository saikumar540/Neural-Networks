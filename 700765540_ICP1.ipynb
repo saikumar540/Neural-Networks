{
  "nbformat": 4,
  "nbformat_minor": 0,
  "metadata": {
    "colab": {
      "provenance": [],
      "authorship_tag": "ABX9TyPlvatwMluDUChrbNkp/Jbk",
      "include_colab_link": true
    },
    "kernelspec": {
      "name": "python3",
      "display_name": "Python 3"
    },
    "language_info": {
      "name": "python"
    }
  },
  "cells": [
    {
      "cell_type": "markdown",
      "metadata": {
        "id": "view-in-github",
        "colab_type": "text"
      },
      "source": [
        "<a href=\"https://colab.research.google.com/github/saikumar540/Neural-Networks/blob/main/700765540_ICP1.ipynb\" target=\"_parent\"><img src=\"https://colab.research.google.com/assets/colab-badge.svg\" alt=\"Open In Colab\"/></a>"
      ]
    },
    {
      "cell_type": "code",
      "execution_count": 4,
      "metadata": {
        "colab": {
          "base_uri": "https://localhost:8080/"
        },
        "id": "iqqSoGUPEiST",
        "outputId": "6cc78639-bf87-45e1-cf7a-d8c1175333e5"
      },
      "outputs": [
        {
          "output_type": "stream",
          "name": "stdout",
          "text": [
            "Enter your first name: sai kumar\n",
            "Enter your last name: Podilapu\n",
            "Full Name: sai kumar Podilapu\n"
          ]
        }
      ],
      "source": [
        "def fullname(first_name, last_name):\n",
        "\n",
        "    # Combine the first and last names with a space in between\n",
        "    return first_name + \" \" + last_name\n",
        "\n",
        "first_name = input(\"Enter your first name: \")\n",
        "last_name = input(\"Enter your last name: \")\n",
        "full_name = fullname(first_name, last_name)\n",
        "print(\"Full Name:\", full_name)"
      ]
    },
    {
      "cell_type": "code",
      "source": [
        "def string_alternative(full_name):\n",
        "\n",
        "    # Slice the string starting from index 0, and take every second character\n",
        "    return full_name[::2]\n",
        "\n",
        "full_name = \"Good evening\"\n",
        "alternate_str = string_alternative(full_name)\n",
        "print(alternate_str)\n"
      ],
      "metadata": {
        "colab": {
          "base_uri": "https://localhost:8080/"
        },
        "id": "rxcElrR5EzCQ",
        "outputId": "b6133942-b9dc-4760-c6cc-17b8c9bb0d62"
      },
      "execution_count": 5,
      "outputs": [
        {
          "output_type": "stream",
          "name": "stdout",
          "text": [
            "Go vnn\n"
          ]
        }
      ]
    },
    {
      "cell_type": "code",
      "source": [
        "def count_words_in_file(input_file, output_file):\n",
        "\n",
        "    # Open the input file in read mode and read all lines\n",
        "    with open(input_file, 'r') as infile:\n",
        "        # Read all lines into a list\n",
        "        lines = infile.readlines()\n",
        "\n",
        "    word_count = {}\n",
        "    for line in lines:\n",
        "         # Split the line into words (by whitespace) and count each word\n",
        "        for word in line.split():\n",
        "            # Update the count for each word in the dictionary\n",
        "            word_count[word]=word_count.get(word, 0) + 1\n",
        "\n",
        "    with open(output_file, 'w') as outfile:\n",
        "        outfile.writelines(lines)\n",
        "        outfile.write(\"\\nWord_Count:\\n\")\n",
        "        # Loop through the word_count dictionary and write each word and its count to the output file\n",
        "        for word, count in word_count.items():\n",
        "            outfile.write(f\"{word}: {count}\\n\")\n",
        "\n",
        "count_words_in_file(\"input.txt\", \"output.txt\")"
      ],
      "metadata": {
        "id": "2gNyqlq7JIX6"
      },
      "execution_count": 8,
      "outputs": []
    },
    {
      "cell_type": "code",
      "source": [
        "def nested(h):\n",
        "  c = []\n",
        "  # Iterate over each height in the input list\n",
        "  for i in h:\n",
        "    c.append(i * 2.54)\n",
        "  return c\n",
        "\n",
        "def comprehension(h):\n",
        "    # Use list comprehension to convert and return the list\n",
        "  return [i * 2.54 for i in h]\n",
        "\n",
        "h = []\n",
        "while True:\n",
        "    # enter height in inches or enter q to exit\n",
        "    i = input(\"Height (in) or 'q': \")\n",
        "    if i.lower() == 'q': break\n",
        "    h.append(float(i))\n",
        "\n",
        "print(\"nested\",nested(h))\n",
        "print(\"comprehension\",comprehension(h))"
      ],
      "metadata": {
        "id": "mB-N_lLNJg36",
        "colab": {
          "base_uri": "https://localhost:8080/"
        },
        "outputId": "1c79bd8a-a5ec-4c6d-8b45-0cd637d9b85d"
      },
      "execution_count": 7,
      "outputs": [
        {
          "output_type": "stream",
          "name": "stdout",
          "text": [
            "Height (in) or 'q': 3\n",
            "Height (in) or 'q': 4\n",
            "Height (in) or 'q': q\n",
            "nested [7.62, 10.16]\n",
            "comprehension [7.62, 10.16]\n"
          ]
        }
      ]
    },
    {
      "cell_type": "code",
      "source": [
        "https://www.loom.com/share/398f6b13c98f42899d1188c43c4b3666?sid=e564d2bb-2e47-43d7-af0e-6fea09b0dc85"
      ],
      "metadata": {
        "id": "T6eSwSG7KM21"
      },
      "execution_count": 3,
      "outputs": []
    },
    {
      "cell_type": "markdown",
      "source": [
        "# New Section"
      ],
      "metadata": {
        "id": "w34SkaI4Gbe4"
      }
    }
  ]
}
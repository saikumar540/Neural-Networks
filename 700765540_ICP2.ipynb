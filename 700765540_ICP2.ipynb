{
  "nbformat": 4,
  "nbformat_minor": 0,
  "metadata": {
    "colab": {
      "provenance": [],
      "authorship_tag": "ABX9TyNn+xr7vQlwj3x0AiW6o7Er",
      "include_colab_link": true
    },
    "kernelspec": {
      "name": "python3",
      "display_name": "Python 3"
    },
    "language_info": {
      "name": "python"
    }
  },
  "cells": [
    {
      "cell_type": "markdown",
      "metadata": {
        "id": "view-in-github",
        "colab_type": "text"
      },
      "source": [
        "<a href=\"https://colab.research.google.com/github/saikumar540/Neural-Networks/blob/main/700765540_ICP2.ipynb\" target=\"_parent\"><img src=\"https://colab.research.google.com/assets/colab-badge.svg\" alt=\"Open In Colab\"/></a>"
      ]
    },
    {
      "cell_type": "code",
      "execution_count": 4,
      "metadata": {
        "colab": {
          "base_uri": "https://localhost:8080/"
        },
        "id": "D58nkrmbJNs8",
        "outputId": "13e7beaf-48b3-4383-c49a-53854ce323bf"
      },
      "outputs": [
        {
          "output_type": "stream",
          "name": "stdout",
          "text": [
            "Average_Salary_Employees 120000.0\n",
            "Average_Salary_FullTime_Employees 80000.0\n",
            "Total number of employees 4\n"
          ]
        }
      ],
      "source": [
        "# Base class Employee\n",
        "class Employee:\n",
        "    # Class variable to count number of Employees\n",
        "    employee_count = 0\n",
        "\n",
        "    def __init__(self, name, family, salary, department):\n",
        "        self.name = name\n",
        "        self.family = family\n",
        "        self.salary = salary\n",
        "        self.department = department\n",
        "        Employee.employee_count += 1  # Increment employee count whenever a new Employee is created\n",
        "\n",
        "    def average_salary(self, *employees):\n",
        "        total_salary = sum(employee.salary for employee in employees)\n",
        "        average = total_salary / len(employees) if employees else 0\n",
        "        return average\n",
        "\n",
        "# Derived class FulltimeEmployee, inheriting from Employee\n",
        "class FulltimeEmployee(Employee):\n",
        "    pass\n",
        "\n",
        "# Create instances of Employee and FulltimeEmployee\n",
        "emp1 = Employee(\"Sai Kumar\", \"Podilapu\", 150000, \"Manager\")\n",
        "emp2 = Employee(\"Nithish\", \"Vunnam\", 90000, \"Finance\")\n",
        "\n",
        "ft_emp1 = FulltimeEmployee(\"Naveen\", \"Peruri\", 75000, \"HR\" )\n",
        "ft_emp2 = FulltimeEmployee(\"Vamsi\", \"Bagadi\", 85000, \"Engineering\")\n",
        "\n",
        "# Call member functions\n",
        "\n",
        "avg_sal_for_employees=emp1.average_salary(emp1, emp2)\n",
        "avg_sal_for_fultime_employees=emp1.average_salary(ft_emp1, ft_emp2)\n",
        "\n",
        "print(\"Average_Salary_Employees\",avg_sal_for_employees)\n",
        "print(\"Average_Salary_FullTime_Employees\",avg_sal_for_fultime_employees)\n",
        "\n",
        "\n",
        "# Show the total number of employees\n",
        "\n",
        "print(\"Total number of employees\",Employee.employee_count)\n",
        "\n"
      ]
    },
    {
      "cell_type": "markdown",
      "source": [
        " Numpy Using NumPy create random vector of size 20 having only float in the range 1-20.\n",
        "\n",
        "Then reshape the array to 4 by 5\n",
        "\n",
        "Then replace the max in each row by 0 (axis=1) (you can NOT implement it via for loop)"
      ],
      "metadata": {
        "id": "giwCB_AzOyqM"
      }
    },
    {
      "cell_type": "code",
      "source": [
        "# Import the NumPy library and alias it as 'np' for brevity and convention.\n",
        "import numpy as np\n",
        "\n",
        "# Create a random vector of size 20 with floats in the range 1-20\n",
        "random_vector = np.random.uniform(1, 20, 20)\n",
        "\n",
        "print(\"Original Random Vector:\\n\", random_vector)"
      ],
      "metadata": {
        "colab": {
          "base_uri": "https://localhost:8080/"
        },
        "id": "qT6kH8fnOrUY",
        "outputId": "1e30cbd4-cd29-49d6-c930-d2671db4c4c6"
      },
      "execution_count": 1,
      "outputs": [
        {
          "output_type": "stream",
          "name": "stdout",
          "text": [
            "Original Random Vector:\n",
            " [ 5.69069669 15.40851262  9.23435715  7.6610868   1.58677376 16.62873977\n",
            " 11.22955857  7.55776694  6.28713306  2.73788717 13.15400009  7.42789184\n",
            " 11.4296073   4.33438412  3.04168254  9.27092819  5.31556301  1.57684286\n",
            "  7.49597278  4.97130155]\n"
          ]
        }
      ]
    },
    {
      "cell_type": "code",
      "source": [
        "# Reshape the array to 4 by 5 (4 rows and 5 columns)\n",
        "reshaped_array = random_vector.reshape(4, 5)\n",
        "\n",
        "print(reshaped_array)\n",
        ""
      ],
      "metadata": {
        "colab": {
          "base_uri": "https://localhost:8080/"
        },
        "id": "t55TZDgXOusV",
        "outputId": "f6882aae-b06f-48bc-a1da-7b6e6136de1f"
      },
      "execution_count": 2,
      "outputs": [
        {
          "output_type": "stream",
          "name": "stdout",
          "text": [
            "[[ 5.69069669 15.40851262  9.23435715  7.6610868   1.58677376]\n",
            " [16.62873977 11.22955857  7.55776694  6.28713306  2.73788717]\n",
            " [13.15400009  7.42789184 11.4296073   4.33438412  3.04168254]\n",
            " [ 9.27092819  5.31556301  1.57684286  7.49597278  4.97130155]]\n"
          ]
        }
      ]
    },
    {
      "cell_type": "code",
      "source": [
        "\n",
        "\n",
        "# Replace the max in each row by 0 (axis=1)\n",
        "reshaped_array[np.arange(4), reshaped_array.argmax(axis=1)] = 0\n",
        "\n",
        "print(\"Reshaped Array:\\n\", reshaped_array)"
      ],
      "metadata": {
        "colab": {
          "base_uri": "https://localhost:8080/"
        },
        "id": "zhkec3YCOxNM",
        "outputId": "7abfb795-3493-436f-a07c-950df16b778c"
      },
      "execution_count": 3,
      "outputs": [
        {
          "output_type": "stream",
          "name": "stdout",
          "text": [
            "Reshaped Array:\n",
            " [[ 5.69069669  0.          9.23435715  7.6610868   1.58677376]\n",
            " [ 0.         11.22955857  7.55776694  6.28713306  2.73788717]\n",
            " [ 0.          7.42789184 11.4296073   4.33438412  3.04168254]\n",
            " [ 0.          5.31556301  1.57684286  7.49597278  4.97130155]]\n"
          ]
        }
      ]
    },
    {
      "cell_type": "code",
      "source": [
        "https://www.loom.com/share/1b17382fe2f44e1aa362133f8294ba9e"
      ],
      "metadata": {
        "id": "Zu6HJfrZQaEn"
      },
      "execution_count": null,
      "outputs": []
    }
  ]
}